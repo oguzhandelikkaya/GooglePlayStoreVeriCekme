{
 "cells": [
  {
   "cell_type": "code",
   "execution_count": 1,
   "id": "a860e6b2",
   "metadata": {},
   "outputs": [],
   "source": [
    "import csv\n",
    "from google_play_scraper import app, reviews\n",
    "\n",
    "app_package = \"com.instagram.android\"\n",
    "\n",
    "csv_file = \"uygulama__yorumlari.csv\"\n",
    "fieldnames = [\"Yorum\", \"Derecelendirme\", \"Tarih\"]\n",
    "\n",
    "with open(csv_file, 'w', newline='', encoding='utf-8') as file:\n",
    "    writer = csv.DictWriter(file, fieldnames=fieldnames)\n",
    "    writer.writeheader()\n",
    "\n",
    "    page_count = 0\n",
    "    continuation_token = None  \n",
    "    while True:\n",
    "         \n",
    "        result, continuation_token = reviews(app_package, lang='tr', count=10, continuation_token=continuation_token)\n",
    "        \n",
    "        \n",
    "        for review in result:\n",
    "            content = review.get(\"content\", \"\")\n",
    "            score = review.get(\"score\", \"\")\n",
    "            date = review.get(\"at\", \"\")\n",
    "\n",
    "            writer.writerow({\"Yorum\": content, \"Derecelendirme\": score, \"Tarih\": date})\n",
    "\n",
    "        page_count += 1\n",
    "        if not continuation_token or page_count >= 10:\n",
    "            break"
   ]
  },
  {
   "cell_type": "code",
   "execution_count": 3,
   "id": "674ae336",
   "metadata": {},
   "outputs": [],
   "source": [
    "import pandas as pd"
   ]
  },
  {
   "cell_type": "code",
   "execution_count": 5,
   "id": "e795823a",
   "metadata": {},
   "outputs": [],
   "source": [
    "df=pd.read_csv(\"uygulama__yorumlari.csv\")"
   ]
  },
  {
   "cell_type": "code",
   "execution_count": 6,
   "id": "4d783112",
   "metadata": {},
   "outputs": [
    {
     "data": {
      "text/html": [
       "<div>\n",
       "<style scoped>\n",
       "    .dataframe tbody tr th:only-of-type {\n",
       "        vertical-align: middle;\n",
       "    }\n",
       "\n",
       "    .dataframe tbody tr th {\n",
       "        vertical-align: top;\n",
       "    }\n",
       "\n",
       "    .dataframe thead th {\n",
       "        text-align: right;\n",
       "    }\n",
       "</style>\n",
       "<table border=\"1\" class=\"dataframe\">\n",
       "  <thead>\n",
       "    <tr style=\"text-align: right;\">\n",
       "      <th></th>\n",
       "      <th>Yorum</th>\n",
       "      <th>Derecelendirme</th>\n",
       "      <th>Tarih</th>\n",
       "    </tr>\n",
       "  </thead>\n",
       "  <tbody>\n",
       "    <tr>\n",
       "      <th>0</th>\n",
       "      <td>Çok kullanışlı ve faydalı bir paylaşım sitesi👍</td>\n",
       "      <td>5</td>\n",
       "      <td>2023-07-18 07:51:03</td>\n",
       "    </tr>\n",
       "    <tr>\n",
       "      <th>1</th>\n",
       "      <td>Bu uygulamayı tercih ediyorum</td>\n",
       "      <td>1</td>\n",
       "      <td>2023-07-18 07:50:56</td>\n",
       "    </tr>\n",
       "    <tr>\n",
       "      <th>2</th>\n",
       "      <td>Neden 2-3 dakikalık videoyu paylaşamıyoruz ki ...</td>\n",
       "      <td>1</td>\n",
       "      <td>2023-07-18 07:47:08</td>\n",
       "    </tr>\n",
       "    <tr>\n",
       "      <th>3</th>\n",
       "      <td>Bir yıldızı bile zor hakediyorsunuz iğrenç içe...</td>\n",
       "      <td>1</td>\n",
       "      <td>2023-07-18 07:33:44</td>\n",
       "    </tr>\n",
       "    <tr>\n",
       "      <th>4</th>\n",
       "      <td>Notlara müzik ekliyemiyorum çok saçma değil mi</td>\n",
       "      <td>1</td>\n",
       "      <td>2023-07-18 07:27:18</td>\n",
       "    </tr>\n",
       "  </tbody>\n",
       "</table>\n",
       "</div>"
      ],
      "text/plain": [
       "                                               Yorum  Derecelendirme  \\\n",
       "0     Çok kullanışlı ve faydalı bir paylaşım sitesi👍               5   \n",
       "1                      Bu uygulamayı tercih ediyorum               1   \n",
       "2  Neden 2-3 dakikalık videoyu paylaşamıyoruz ki ...               1   \n",
       "3  Bir yıldızı bile zor hakediyorsunuz iğrenç içe...               1   \n",
       "4     Notlara müzik ekliyemiyorum çok saçma değil mi               1   \n",
       "\n",
       "                 Tarih  \n",
       "0  2023-07-18 07:51:03  \n",
       "1  2023-07-18 07:50:56  \n",
       "2  2023-07-18 07:47:08  \n",
       "3  2023-07-18 07:33:44  \n",
       "4  2023-07-18 07:27:18  "
      ]
     },
     "execution_count": 6,
     "metadata": {},
     "output_type": "execute_result"
    }
   ],
   "source": [
    "df.head()"
   ]
  },
  {
   "cell_type": "code",
   "execution_count": null,
   "id": "049da022",
   "metadata": {},
   "outputs": [],
   "source": []
  }
 ],
 "metadata": {
  "kernelspec": {
   "display_name": "Python 3 (ipykernel)",
   "language": "python",
   "name": "python3"
  },
  "language_info": {
   "codemirror_mode": {
    "name": "ipython",
    "version": 3
   },
   "file_extension": ".py",
   "mimetype": "text/x-python",
   "name": "python",
   "nbconvert_exporter": "python",
   "pygments_lexer": "ipython3",
   "version": "3.9.13"
  }
 },
 "nbformat": 4,
 "nbformat_minor": 5
}
